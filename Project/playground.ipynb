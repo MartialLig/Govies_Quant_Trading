{
 "cells": [
  {
   "cell_type": "code",
   "execution_count": null,
   "metadata": {},
   "outputs": [],
   "source": []
  },
  {
   "cell_type": "markdown",
   "metadata": {},
   "source": [
    "# IMPORT"
   ]
  },
  {
   "cell_type": "code",
   "execution_count": 1,
   "metadata": {},
   "outputs": [],
   "source": [
    "import pandas as pd\n",
    "from data_manager import DataManager\n"
   ]
  },
  {
   "cell_type": "code",
   "execution_count": 2,
   "metadata": {},
   "outputs": [],
   "source": [
    "%load_ext autoreload\n",
    "%autoreload 2"
   ]
  },
  {
   "cell_type": "markdown",
   "metadata": {},
   "source": [
    "# DATA ANALYSIS"
   ]
  },
  {
   "cell_type": "markdown",
   "metadata": {},
   "source": [
    "To view the data, launch the dashboard, which offers numerous data visualizations."
   ]
  },
  {
   "cell_type": "code",
   "execution_count": 3,
   "metadata": {},
   "outputs": [],
   "source": [
    "file_path = 'EGB_historical_yield.csv'\n",
    "data_manager = DataManager(file_path)\n"
   ]
  },
  {
   "cell_type": "code",
   "execution_count": 4,
   "metadata": {},
   "outputs": [
    {
     "data": {
      "text/plain": [
       "(2110, 21)"
      ]
     },
     "execution_count": 4,
     "metadata": {},
     "output_type": "execute_result"
    }
   ],
   "source": [
    "data_manager.data.shape"
   ]
  },
  {
   "cell_type": "code",
   "execution_count": 5,
   "metadata": {},
   "outputs": [
    {
     "data": {
      "text/html": [
       "<div>\n",
       "<style scoped>\n",
       "    .dataframe tbody tr th:only-of-type {\n",
       "        vertical-align: middle;\n",
       "    }\n",
       "\n",
       "    .dataframe tbody tr th {\n",
       "        vertical-align: top;\n",
       "    }\n",
       "\n",
       "    .dataframe thead th {\n",
       "        text-align: right;\n",
       "    }\n",
       "</style>\n",
       "<table border=\"1\" class=\"dataframe\">\n",
       "  <thead>\n",
       "    <tr style=\"text-align: right;\">\n",
       "      <th></th>\n",
       "      <th>Germany_5y</th>\n",
       "      <th>Germany_10y</th>\n",
       "      <th>Germany_30y</th>\n",
       "      <th>Belgium_5y</th>\n",
       "      <th>Belgium_10y</th>\n",
       "      <th>Belgium_30y</th>\n",
       "      <th>Austria_5y</th>\n",
       "      <th>Austria_10y</th>\n",
       "      <th>Austria_30y</th>\n",
       "      <th>Netherlands_5y</th>\n",
       "      <th>...</th>\n",
       "      <th>Netherlands_30y</th>\n",
       "      <th>France_5y</th>\n",
       "      <th>France_10y</th>\n",
       "      <th>France_30y</th>\n",
       "      <th>Spain_5y</th>\n",
       "      <th>Spain_10y</th>\n",
       "      <th>Spain_30y</th>\n",
       "      <th>Italy_5y</th>\n",
       "      <th>Italy_10y</th>\n",
       "      <th>Italy_30y</th>\n",
       "    </tr>\n",
       "    <tr>\n",
       "      <th>date</th>\n",
       "      <th></th>\n",
       "      <th></th>\n",
       "      <th></th>\n",
       "      <th></th>\n",
       "      <th></th>\n",
       "      <th></th>\n",
       "      <th></th>\n",
       "      <th></th>\n",
       "      <th></th>\n",
       "      <th></th>\n",
       "      <th></th>\n",
       "      <th></th>\n",
       "      <th></th>\n",
       "      <th></th>\n",
       "      <th></th>\n",
       "      <th></th>\n",
       "      <th></th>\n",
       "      <th></th>\n",
       "      <th></th>\n",
       "      <th></th>\n",
       "      <th></th>\n",
       "    </tr>\n",
       "  </thead>\n",
       "  <tbody>\n",
       "    <tr>\n",
       "      <th>2016-01-15</th>\n",
       "      <td>-16.4</td>\n",
       "      <td>53.9</td>\n",
       "      <td>131.2</td>\n",
       "      <td>-2.1</td>\n",
       "      <td>83.8</td>\n",
       "      <td>189.7</td>\n",
       "      <td>-8</td>\n",
       "      <td>77.7</td>\n",
       "      <td>160.4</td>\n",
       "      <td>-10.4</td>\n",
       "      <td>...</td>\n",
       "      <td>143.6</td>\n",
       "      <td>-10.4</td>\n",
       "      <td>66.1</td>\n",
       "      <td>143.6</td>\n",
       "      <td>65.4</td>\n",
       "      <td>175.0</td>\n",
       "      <td>291.2</td>\n",
       "      <td>56.1</td>\n",
       "      <td>156.4</td>\n",
       "      <td>264.9</td>\n",
       "    </tr>\n",
       "    <tr>\n",
       "      <th>2016-01-18</th>\n",
       "      <td>-16.6</td>\n",
       "      <td>53.6</td>\n",
       "      <td>131.2</td>\n",
       "      <td>-3.3</td>\n",
       "      <td>83.5</td>\n",
       "      <td>190.0</td>\n",
       "      <td>-8</td>\n",
       "      <td>77.4</td>\n",
       "      <td>160.7</td>\n",
       "      <td>-10.6</td>\n",
       "      <td>...</td>\n",
       "      <td>143.9</td>\n",
       "      <td>-10.6</td>\n",
       "      <td>66.0</td>\n",
       "      <td>143.9</td>\n",
       "      <td>64.0</td>\n",
       "      <td>174.0</td>\n",
       "      <td>291.5</td>\n",
       "      <td>56.6</td>\n",
       "      <td>156.4</td>\n",
       "      <td>266.9</td>\n",
       "    </tr>\n",
       "    <tr>\n",
       "      <th>2016-01-19</th>\n",
       "      <td>-16.7</td>\n",
       "      <td>54.8</td>\n",
       "      <td>132.2</td>\n",
       "      <td>-4.1</td>\n",
       "      <td>84.0</td>\n",
       "      <td>189.9</td>\n",
       "      <td>-8</td>\n",
       "      <td>78.3</td>\n",
       "      <td>161.8</td>\n",
       "      <td>-11.3</td>\n",
       "      <td>...</td>\n",
       "      <td>145.1</td>\n",
       "      <td>-11.3</td>\n",
       "      <td>66.1</td>\n",
       "      <td>145.1</td>\n",
       "      <td>60.5</td>\n",
       "      <td>170.1</td>\n",
       "      <td>288.2</td>\n",
       "      <td>55.3</td>\n",
       "      <td>155.7</td>\n",
       "      <td>265.2</td>\n",
       "    </tr>\n",
       "    <tr>\n",
       "      <th>2016-01-20</th>\n",
       "      <td>-19.8</td>\n",
       "      <td>48.1</td>\n",
       "      <td>122.5</td>\n",
       "      <td>-6.0</td>\n",
       "      <td>96.3</td>\n",
       "      <td>184.2</td>\n",
       "      <td>-11</td>\n",
       "      <td>73.2</td>\n",
       "      <td>153.1</td>\n",
       "      <td>-13.8</td>\n",
       "      <td>...</td>\n",
       "      <td>135.9</td>\n",
       "      <td>-13.8</td>\n",
       "      <td>60.9</td>\n",
       "      <td>135.9</td>\n",
       "      <td>65.7</td>\n",
       "      <td>178.2</td>\n",
       "      <td>296.7</td>\n",
       "      <td>62.2</td>\n",
       "      <td>164.9</td>\n",
       "      <td>275.9</td>\n",
       "    </tr>\n",
       "    <tr>\n",
       "      <th>2016-01-21</th>\n",
       "      <td>-24.0</td>\n",
       "      <td>44.9</td>\n",
       "      <td>121.4</td>\n",
       "      <td>-9.8</td>\n",
       "      <td>91.5</td>\n",
       "      <td>180.5</td>\n",
       "      <td>-16</td>\n",
       "      <td>69.6</td>\n",
       "      <td>153.0</td>\n",
       "      <td>-18.2</td>\n",
       "      <td>...</td>\n",
       "      <td>134.8</td>\n",
       "      <td>-18.2</td>\n",
       "      <td>57.0</td>\n",
       "      <td>134.8</td>\n",
       "      <td>60.2</td>\n",
       "      <td>171.9</td>\n",
       "      <td>291.5</td>\n",
       "      <td>54.4</td>\n",
       "      <td>156.1</td>\n",
       "      <td>269.5</td>\n",
       "    </tr>\n",
       "  </tbody>\n",
       "</table>\n",
       "<p>5 rows × 21 columns</p>\n",
       "</div>"
      ],
      "text/plain": [
       "            Germany_5y  Germany_10y  Germany_30y  Belgium_5y  Belgium_10y  \\\n",
       "date                                                                        \n",
       "2016-01-15       -16.4         53.9        131.2        -2.1         83.8   \n",
       "2016-01-18       -16.6         53.6        131.2        -3.3         83.5   \n",
       "2016-01-19       -16.7         54.8        132.2        -4.1         84.0   \n",
       "2016-01-20       -19.8         48.1        122.5        -6.0         96.3   \n",
       "2016-01-21       -24.0         44.9        121.4        -9.8         91.5   \n",
       "\n",
       "            Belgium_30y  Austria_5y  Austria_10y  Austria_30y  Netherlands_5y  \\\n",
       "date                                                                            \n",
       "2016-01-15        189.7          -8         77.7        160.4           -10.4   \n",
       "2016-01-18        190.0          -8         77.4        160.7           -10.6   \n",
       "2016-01-19        189.9          -8         78.3        161.8           -11.3   \n",
       "2016-01-20        184.2         -11         73.2        153.1           -13.8   \n",
       "2016-01-21        180.5         -16         69.6        153.0           -18.2   \n",
       "\n",
       "            ...  Netherlands_30y  France_5y  France_10y  France_30y  Spain_5y  \\\n",
       "date        ...                                                                 \n",
       "2016-01-15  ...            143.6      -10.4        66.1       143.6      65.4   \n",
       "2016-01-18  ...            143.9      -10.6        66.0       143.9      64.0   \n",
       "2016-01-19  ...            145.1      -11.3        66.1       145.1      60.5   \n",
       "2016-01-20  ...            135.9      -13.8        60.9       135.9      65.7   \n",
       "2016-01-21  ...            134.8      -18.2        57.0       134.8      60.2   \n",
       "\n",
       "            Spain_10y  Spain_30y  Italy_5y  Italy_10y  Italy_30y  \n",
       "date                                                              \n",
       "2016-01-15      175.0      291.2      56.1      156.4      264.9  \n",
       "2016-01-18      174.0      291.5      56.6      156.4      266.9  \n",
       "2016-01-19      170.1      288.2      55.3      155.7      265.2  \n",
       "2016-01-20      178.2      296.7      62.2      164.9      275.9  \n",
       "2016-01-21      171.9      291.5      54.4      156.1      269.5  \n",
       "\n",
       "[5 rows x 21 columns]"
      ]
     },
     "execution_count": 5,
     "metadata": {},
     "output_type": "execute_result"
    }
   ],
   "source": [
    "data_manager.data.head()"
   ]
  },
  {
   "cell_type": "code",
   "execution_count": 6,
   "metadata": {},
   "outputs": [
    {
     "data": {
      "text/plain": [
       "Germany_5y         float64\n",
       "Germany_10y        float64\n",
       "Germany_30y        float64\n",
       "Belgium_5y         float64\n",
       "Belgium_10y        float64\n",
       "Belgium_30y        float64\n",
       "Austria_5y           int64\n",
       "Austria_10y        float64\n",
       "Austria_30y        float64\n",
       "Netherlands_5y     float64\n",
       "Netherlands_10y    float64\n",
       "Netherlands_30y    float64\n",
       "France_5y          float64\n",
       "France_10y         float64\n",
       "France_30y         float64\n",
       "Spain_5y           float64\n",
       "Spain_10y          float64\n",
       "Spain_30y          float64\n",
       "Italy_5y           float64\n",
       "Italy_10y          float64\n",
       "Italy_30y          float64\n",
       "dtype: object"
      ]
     },
     "execution_count": 6,
     "metadata": {},
     "output_type": "execute_result"
    }
   ],
   "source": [
    "data_manager.data.dtypes"
   ]
  },
  {
   "cell_type": "markdown",
   "metadata": {},
   "source": [
    "For the Austria 5-year rates, we only have `int64` data types, which likely indicates a lack of precision in this measurement compared to others. Given 2110 rows, the probability of having only integer numbers is virtually zero."
   ]
  },
  {
   "cell_type": "code",
   "execution_count": 7,
   "metadata": {},
   "outputs": [
    {
     "data": {
      "text/plain": [
       "Germany_5y    0\n",
       "Italy_5y      0\n",
       "Spain_30y     0\n",
       "dtype: int64"
      ]
     },
     "execution_count": 7,
     "metadata": {},
     "output_type": "execute_result"
    }
   ],
   "source": [
    "data_manager.data.isnull().sum().sort_values().head(3)"
   ]
  },
  {
   "cell_type": "markdown",
   "metadata": {},
   "source": [
    "There are no missing data, which is good news."
   ]
  },
  {
   "cell_type": "code",
   "execution_count": null,
   "metadata": {},
   "outputs": [],
   "source": []
  },
  {
   "cell_type": "code",
   "execution_count": null,
   "metadata": {},
   "outputs": [],
   "source": []
  },
  {
   "cell_type": "code",
   "execution_count": null,
   "metadata": {},
   "outputs": [],
   "source": []
  },
  {
   "cell_type": "markdown",
   "metadata": {},
   "source": []
  },
  {
   "cell_type": "markdown",
   "metadata": {},
   "source": [
    "### Données économiques que l'on pourrait rajouter pour aller plus loin :\n",
    "\n",
    "- Inflation\n",
    "- Chômage\n",
    "- PIB (Produit Intérieur Brut)\n",
    "- Indice des prix à la consommation\n",
    "- Indice des prix à la production (IPP)\n",
    "- Balance commerciale\n",
    "- Indices boursiers\n",
    "- Indicateurs de sentiment de marché\n"
   ]
  },
  {
   "cell_type": "markdown",
   "metadata": {},
   "source": []
  },
  {
   "cell_type": "markdown",
   "metadata": {},
   "source": []
  },
  {
   "cell_type": "markdown",
   "metadata": {},
   "source": []
  },
  {
   "cell_type": "markdown",
   "metadata": {},
   "source": []
  },
  {
   "cell_type": "markdown",
   "metadata": {},
   "source": []
  },
  {
   "cell_type": "markdown",
   "metadata": {},
   "source": []
  },
  {
   "cell_type": "markdown",
   "metadata": {},
   "source": []
  },
  {
   "cell_type": "markdown",
   "metadata": {},
   "source": []
  }
 ],
 "metadata": {
  "kernelspec": {
   "display_name": "mlp",
   "language": "python",
   "name": "python3"
  },
  "language_info": {
   "codemirror_mode": {
    "name": "ipython",
    "version": 3
   },
   "file_extension": ".py",
   "mimetype": "text/x-python",
   "name": "python",
   "nbconvert_exporter": "python",
   "pygments_lexer": "ipython3",
   "version": "3.8.15"
  }
 },
 "nbformat": 4,
 "nbformat_minor": 2
}
